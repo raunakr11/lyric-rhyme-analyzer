{
 "cells": [
  {
   "cell_type": "code",
   "execution_count": 8,
   "metadata": {},
   "outputs": [],
   "source": [
    "import json\n",
    "import os   \n",
    "import lyricsgenius"
   ]
  },
  {
   "cell_type": "code",
   "execution_count": 27,
   "metadata": {},
   "outputs": [],
   "source": [
    "artist_name = \"jcole\"\n",
    "song_title = \"huntin wabbitz\""
   ]
  },
  {
   "cell_type": "code",
   "execution_count": 21,
   "metadata": {},
   "outputs": [],
   "source": [
    "artist_name = \"eminem\"\n",
    "song_title = \"rap god\""
   ]
  },
  {
   "cell_type": "code",
   "execution_count": 28,
   "metadata": {},
   "outputs": [
    {
     "name": "stdout",
     "output_type": "stream",
     "text": [
      "Title: huntin wabbitz\n",
      "Artist: jcole\n",
      "Lyrics: 75 ContributorsHuntin’ Wabbitz Lyrics[Intro]\n",
      "Shh\n",
      "Be very, very quiet\n",
      "I'm huntin' wabbits\n",
      "Goddamn (Uh)\n",
      "\n",
      "[Verse 1]\n",
      "Fuck runnin' in place, I'd never do that, my destination is runnin' the map\n",
      "I'll run in your trap like, \"Run me your work 'fore somebody get hurt,\" nigga, run or get clapped\n",
      "I ain't cool with these dudes, I don't fool with these dudes\n",
      "I don't wanna show love, I don't wanna give dap\n",
      "I just wanna kick back, take trips, make hits, make big chips, stack 'til they tall as Kristaps\n",
      "Me and your squad is mismatch\n",
      "Your calves ain't strong enough to follow his path\n",
      "And you know the bitch bad if I brought the bitch back\n",
      "Let the chick ride stick like I taught her witchcraft\n",
      "Caught a whiplash when they saw the whip pass\n",
      "They like, \"Okay, I see you,\" bitch, how could you not?\n",
      "I drove to CVS, copped a Plan B and I watched as she swallowed, bitch, I kid you not\n",
      "Can't take no risk in this game, my money grew, but my ambition's the same\n",
      "Talk to me proper, you lookin' like Q at the locker, I pop up how Bishop had came\n",
      "What's up? Niggas gon' put some respect on my name\n",
      "One way or another\n",
      "I work the whole winter to take over summer\n",
      "They late to the party 'cause they overslumbered\n",
      "Don't hop on it now, nigga, stay over yonder\n",
      "I'm on Rodeo, I'm bummy\n",
      "I'm 'bout to get fly like my layover comin'\n",
      "I promise I don't feel a day over twenty\n",
      "They hatin' from so far away and it's funny\n",
      "I'm clappin' at niggas like they owe me money\n",
      "Pop-pop-pop-pop-pop-pop, click\n",
      "Shit, now the clip lookin' like Chick-fil-A on a Sunday\n",
      "You might also like[Interlude]\n",
      "He keeps killing us, father\n",
      "He keeps taking and taking\n",
      "I want to—\n",
      "\n",
      "[Verse 2]\n",
      "Pop in a new one and let off again\n",
      "Always knew we was gon' get our revenge\n",
      "Aim at whoever ain't dead, I will win\n",
      "You thought 'cause I'm god of this rap shit that I'd just forget all the sins?\n",
      "Oh, how you wish\n",
      "He dope as a hundred and ten-hour binge\n",
      "Everybody say that they start at the bottom\n",
      "I don't care to doubt 'em, but this how it ends, nigga\n",
      "Look at you, son\n",
      "Look at what you've become\n",
      "This how it ends\n",
      "Never see no one get this high again\n",
      "Globetrotter shit, bitch, that's just how I spin\n",
      "Word to my palm, bitch, I'm too locked in\n",
      "I hit 'em up, bitch, I'm 2Pac twin\n",
      "Came up 'round sharks, so that's just how I swim\n",
      "Came up 'round sharks, so that's just how I swim\n",
      "(That's just how I swim)\n",
      "This how it ends\n",
      "Never see no one get this high again\n",
      "Globetrotter shit, bitch, that's just how I spin\n",
      "Word to my palm, bitch, I'm too locked in\n",
      "I hit 'em up, bitch, I'm 2Pac twin\n",
      "Came up 'round sharks, so that's just how I swim\n",
      "Came up 'round sharks, so that's just how I swim\n",
      "[Outro]\n",
      "I'm sorry\n",
      "I'm so sorry for what I've done3Embed\n"
     ]
    }
   ],
   "source": [
    "with open(f\"lyricsFiles/{artist_name}-{song_title}_lyrics.json\") as f:\n",
    "    lyrics_data = json.load(f)\n",
    "\n",
    "print(\"Title:\", lyrics_data[\"title\"])\n",
    "print(\"Artist:\", lyrics_data[\"artist\"])\n",
    "print(\"Lyrics:\", lyrics_data[\"lyrics\"])"
   ]
  },
  {
   "cell_type": "code",
   "execution_count": 29,
   "metadata": {},
   "outputs": [
    {
     "name": "stdout",
     "output_type": "stream",
     "text": [
      "[['75', 'contributorshuntin', 'wabbitz', 'lyrics', 'intro'], ['shh'], ['be', 'very', 'very', 'quiet'], ['i', 'm', 'huntin', 'wabbits'], ['goddamn', 'uh'], [], ['verse', '1'], ['fuck', 'runnin', 'in', 'place', 'i', 'd', 'never', 'do', 'that', 'my', 'destination', 'is', 'runnin', 'the', 'map'], ['i', 'll', 'run', 'in', 'your', 'trap', 'like', 'run', 'me', 'your', 'work', 'fore', 'somebody', 'get', 'hurt', 'nigga', 'run', 'or', 'get', 'clapped'], ['i', 'ain', 't', 'cool', 'with', 'these', 'dudes', 'i', 'don', 't', 'fool', 'with', 'these', 'dudes']]\n"
     ]
    }
   ],
   "source": [
    "import re\n",
    "\n",
    "lyrics = lyrics_data[\"lyrics\"]\n",
    "lines = lyrics.split('\\n')\n",
    "\n",
    "tokenized_lyrics = [re.findall(r'\\b\\w+\\b', line.lower()) for line in lines]\n",
    "\n",
    "print(tokenized_lyrics[:10]) "
   ]
  },
  {
   "cell_type": "code",
   "execution_count": 30,
   "metadata": {},
   "outputs": [
    {
     "name": "stdout",
     "output_type": "stream",
     "text": [
      "[['', 'KNTRPTRXNTN', 'APTS', 'LRKS', 'ANTR'], ['X'], ['P', 'FR', 'FR', 'KT'], ['A', 'M', 'HNTN', 'APTS'], ['KTMN', 'A'], [], ['FRS', ''], ['FK', 'RNN', 'AN', 'PLS', 'A', 'T', 'NFR', 'T', '0T', 'M', 'TSTNXN', 'AS', 'RNN', '0', 'MP'], ['A', 'L', 'RN', 'AN', 'AR', 'TRP', 'LK', 'RN', 'M', 'AR', 'ARK', 'FR', 'SMPT', 'KT', 'HRT', 'NK', 'RN', 'AR', 'KT', 'KLPT'], ['A', 'AN', 'T', 'KL', 'A0', '0S', 'TTS', 'A', 'TN', 'T', 'FL', 'A0', '0S', 'TTS']]\n"
     ]
    }
   ],
   "source": [
    "from metaphone import doublemetaphone\n",
    "\n",
    "def get_phonetic_code(word):\n",
    "    return doublemetaphone(word)[0]\n",
    "\n",
    "phonetic_lyrics = [[get_phonetic_code(word) for word in line] for line in tokenized_lyrics]\n",
    "\n",
    "print(phonetic_lyrics[:10])\n"
   ]
  },
  {
   "cell_type": "code",
   "execution_count": 31,
   "metadata": {},
   "outputs": [
    {
     "name": "stdout",
     "output_type": "stream",
     "text": [
      "[('', ['75', '1', '2']), ('APTS', ['wabbitz', 'wabbits']), ('ANTR', ['intro', 'winter', 'yonder']), ('X', ['shh', 'show', 'she']), ('P', ['be', 'b'])]\n"
     ]
    }
   ],
   "source": [
    "from collections import defaultdict\n",
    "\n",
    "rhyme_groups = defaultdict(list)\n",
    "for line in tokenized_lyrics:\n",
    "    for word in line:\n",
    "        phonetic_code = get_phonetic_code(word)\n",
    "        rhyme_groups[phonetic_code].append(word)\n",
    "\n",
    "rhyme_groups = {k: v for k, v in rhyme_groups.items() if len(v) > 1}\n",
    "\n",
    "print(list(rhyme_groups.items())[:5]) \n"
   ]
  },
  {
   "cell_type": "code",
   "execution_count": 32,
   "metadata": {},
   "outputs": [
    {
     "data": {
      "text/html": [
       "<div style='font-family: Arial, sans-serif;'><span style=\"color: #32CD32;\">75</span> <span style=\"color: black;\">contributorshuntin</span> <span style=\"color: #FF6347;\">wabbitz</span> <span style=\"color: black;\">lyrics</span> <span style=\"color: #4682B4;\">intro</span><br><span style=\"color: #FF69B4;\">shh</span><br><span style=\"color: #4682B4;\">be</span> <span style=\"color: #32CD32;\">very</span> <span style=\"color: #32CD32;\">very</span> <span style=\"color: #6A5ACD;\">quiet</span><br><span style=\"color: #8B4513;\">i</span> <span style=\"color: #32CD32;\">m</span> <span style=\"color: black;\">huntin</span> <span style=\"color: #FF6347;\">wabbits</span><br><span style=\"color: black;\">goddamn</span> <span style=\"color: #8B4513;\">uh</span><br><br><span style=\"color: #FF69B4;\">verse</span> <span style=\"color: #32CD32;\">1</span><br><span style=\"color: black;\">fuck</span> <span style=\"color: #6A5ACD;\">runnin</span> <span style=\"color: #FF6347;\">in</span> <span style=\"color: black;\">place</span> <span style=\"color: #8B4513;\">i</span> <span style=\"color: #6A5ACD;\">d</span> <span style=\"color: #FF6347;\">never</span> <span style=\"color: #6A5ACD;\">do</span> <span style=\"color: #FF6347;\">that</span> <span style=\"color: #32CD32;\">my</span> <span style=\"color: black;\">destination</span> <span style=\"color: #6A5ACD;\">is</span> <span style=\"color: #6A5ACD;\">runnin</span> <span style=\"color: #FFD700;\">the</span> <span style=\"color: black;\">map</span><br><span style=\"color: #8B4513;\">i</span> <span style=\"color: black;\">ll</span> <span style=\"color: #32CD32;\">run</span> <span style=\"color: #FF6347;\">in</span> <span style=\"color: #32CD32;\">your</span> <span style=\"color: black;\">trap</span> <span style=\"color: #4682B4;\">like</span> <span style=\"color: #32CD32;\">run</span> <span style=\"color: #32CD32;\">me</span> <span style=\"color: #32CD32;\">your</span> <span style=\"color: #FF6347;\">work</span> <span style=\"color: #32CD32;\">fore</span> <span style=\"color: black;\">somebody</span> <span style=\"color: #6A5ACD;\">get</span> <span style=\"color: black;\">hurt</span> <span style=\"color: #8B4513;\">nigga</span> <span style=\"color: #32CD32;\">run</span> <span style=\"color: #32CD32;\">or</span> <span style=\"color: #6A5ACD;\">get</span> <span style=\"color: black;\">clapped</span><br><span style=\"color: #8B4513;\">i</span> <span style=\"color: #FF6347;\">ain</span> <span style=\"color: #6A5ACD;\">t</span> <span style=\"color: black;\">cool</span> <span style=\"color: #8B4513;\">with</span> <span style=\"color: #8B4513;\">these</span> <span style=\"color: #8B4513;\">dudes</span> <span style=\"color: #8B4513;\">i</span> <span style=\"color: #6A5ACD;\">don</span> <span style=\"color: #6A5ACD;\">t</span> <span style=\"color: #32CD32;\">fool</span> <span style=\"color: #8B4513;\">with</span> <span style=\"color: #8B4513;\">these</span> <span style=\"color: #8B4513;\">dudes</span><br><span style=\"color: #8B4513;\">i</span> <span style=\"color: #6A5ACD;\">don</span> <span style=\"color: #6A5ACD;\">t</span> <span style=\"color: #FF6347;\">wanna</span> <span style=\"color: #FF69B4;\">show</span> <span style=\"color: black;\">love</span> <span style=\"color: #8B4513;\">i</span> <span style=\"color: #6A5ACD;\">don</span> <span style=\"color: #6A5ACD;\">t</span> <span style=\"color: #FF6347;\">wanna</span> <span style=\"color: black;\">give</span> <span style=\"color: #32CD32;\">dap</span><br><span style=\"color: #8B4513;\">i</span> <span style=\"color: #8B4513;\">just</span> <span style=\"color: #FF6347;\">wanna</span> <span style=\"color: black;\">kick</span> <span style=\"color: #6A5ACD;\">back</span> <span style=\"color: #FF69B4;\">take</span> <span style=\"color: black;\">trips</span> <span style=\"color: #FFD700;\">make</span> <span style=\"color: black;\">hits</span> <span style=\"color: #FFD700;\">make</span> <span style=\"color: #6A5ACD;\">big</span> <span style=\"color: black;\">chips</span> <span style=\"color: #32CD32;\">stack</span> <span style=\"color: #4682B4;\">til</span> <span style=\"color: #FFD700;\">they</span> <span style=\"color: #4682B4;\">tall</span> <span style=\"color: #6A5ACD;\">as</span> <span style=\"color: black;\">kristaps</span><br><span style=\"color: #32CD32;\">me</span> <span style=\"color: #FF69B4;\">and</span> <span style=\"color: #32CD32;\">your</span> <span style=\"color: black;\">squad</span> <span style=\"color: #6A5ACD;\">is</span> <span style=\"color: black;\">mismatch</span><br><span style=\"color: #32CD32;\">your</span> <span style=\"color: black;\">calves</span> <span style=\"color: #FF6347;\">ain</span> <span style=\"color: #6A5ACD;\">t</span> <span style=\"color: black;\">strong</span> <span style=\"color: black;\">enough</span> <span style=\"color: #6A5ACD;\">to</span> <span style=\"color: #32CD32;\">follow</span> <span style=\"color: black;\">his</span> <span style=\"color: black;\">path</span><br><span style=\"color: #FF69B4;\">and</span> <span style=\"color: #8B4513;\">you</span> <span style=\"color: #4682B4;\">know</span> <span style=\"color: #FFD700;\">the</span> <span style=\"color: #8B4513;\">bitch</span> <span style=\"color: #4682B4;\">bad</span> <span style=\"color: #FF69B4;\">if</span> <span style=\"color: #8B4513;\">i</span> <span style=\"color: #FF69B4;\">brought</span> <span style=\"color: #FFD700;\">the</span> <span style=\"color: #8B4513;\">bitch</span> <span style=\"color: #6A5ACD;\">back</span><br><span style=\"color: #FF6347;\">let</span> <span style=\"color: #FFD700;\">the</span> <span style=\"color: #FF69B4;\">chick</span> <span style=\"color: #FF6347;\">ride</span> <span style=\"color: #32CD32;\">stick</span> <span style=\"color: #4682B4;\">like</span> <span style=\"color: #8B4513;\">i</span> <span style=\"color: black;\">taught</span> <span style=\"color: #FF69B4;\">her</span> <span style=\"color: black;\">witchcraft</span><br><span style=\"color: black;\">caught</span> <span style=\"color: #8B4513;\">a</span> <span style=\"color: black;\">whiplash</span> <span style=\"color: #FF6347;\">when</span> <span style=\"color: #FFD700;\">they</span> <span style=\"color: #6A5ACD;\">saw</span> <span style=\"color: #FFD700;\">the</span> <span style=\"color: #FF69B4;\">whip</span> <span style=\"color: black;\">pass</span><br><span style=\"color: #FFD700;\">they</span> <span style=\"color: #4682B4;\">like</span> <span style=\"color: black;\">okay</span> <span style=\"color: #8B4513;\">i</span> <span style=\"color: #6A5ACD;\">see</span> <span style=\"color: #8B4513;\">you</span> <span style=\"color: #8B4513;\">bitch</span> <span style=\"color: #FF69B4;\">how</span> <span style=\"color: black;\">could</span> <span style=\"color: #8B4513;\">you</span> <span style=\"color: #4682B4;\">not</span><br><span style=\"color: #8B4513;\">i</span> <span style=\"color: black;\">drove</span> <span style=\"color: #6A5ACD;\">to</span> <span style=\"color: black;\">cvs</span> <span style=\"color: black;\">copped</span> <span style=\"color: #8B4513;\">a</span> <span style=\"color: black;\">plan</span> <span style=\"color: #4682B4;\">b</span> <span style=\"color: #FF69B4;\">and</span> <span style=\"color: #8B4513;\">i</span> <span style=\"color: black;\">watched</span> <span style=\"color: #6A5ACD;\">as</span> <span style=\"color: #FF69B4;\">she</span> <span style=\"color: black;\">swallowed</span> <span style=\"color: #8B4513;\">bitch</span> <span style=\"color: #8B4513;\">i</span> <span style=\"color: #6A5ACD;\">kid</span> <span style=\"color: #8B4513;\">you</span> <span style=\"color: #4682B4;\">not</span><br><span style=\"color: #FFD700;\">can</span> <span style=\"color: #6A5ACD;\">t</span> <span style=\"color: #FF69B4;\">take</span> <span style=\"color: #4682B4;\">no</span> <span style=\"color: black;\">risk</span> <span style=\"color: #FF6347;\">in</span> <span style=\"color: #8B4513;\">this</span> <span style=\"color: #FF6347;\">game</span> <span style=\"color: #32CD32;\">my</span> <span style=\"color: #FF6347;\">money</span> <span style=\"color: #FF69B4;\">grew</span> <span style=\"color: #4682B4;\">but</span> <span style=\"color: #32CD32;\">my</span> <span style=\"color: black;\">ambition</span> <span style=\"color: #6A5ACD;\">s</span> <span style=\"color: #FFD700;\">the</span> <span style=\"color: #6A5ACD;\">same</span><br><span style=\"color: black;\">talk</span> <span style=\"color: #6A5ACD;\">to</span> <span style=\"color: #32CD32;\">me</span> <span style=\"color: black;\">proper</span> <span style=\"color: #8B4513;\">you</span> <span style=\"color: #4682B4;\">lookin</span> <span style=\"color: #4682B4;\">like</span> <span style=\"color: black;\">q</span> <span style=\"color: #FF6347;\">at</span> <span style=\"color: #FFD700;\">the</span> <span style=\"color: black;\">locker</span> <span style=\"color: #8B4513;\">i</span> <span style=\"color: #FFD700;\">pop</span> <span style=\"color: #FF69B4;\">up</span> <span style=\"color: #FF69B4;\">how</span> <span style=\"color: black;\">bishop</span> <span style=\"color: #6A5ACD;\">had</span> <span style=\"color: #FF6347;\">came</span><br><span style=\"color: #FF6347;\">what</span> <span style=\"color: #6A5ACD;\">s</span> <span style=\"color: #FF69B4;\">up</span> <span style=\"color: #6A5ACD;\">niggas</span> <span style=\"color: #FFD700;\">gon</span> <span style=\"color: #4682B4;\">put</span> <span style=\"color: #6A5ACD;\">some</span> <span style=\"color: black;\">respect</span> <span style=\"color: #FF6347;\">on</span> <span style=\"color: #32CD32;\">my</span> <span style=\"color: black;\">name</span><br><span style=\"color: #FF6347;\">one</span> <span style=\"color: #8B4513;\">way</span> <span style=\"color: #32CD32;\">or</span> <span style=\"color: black;\">another</span><br><span style=\"color: #8B4513;\">i</span> <span style=\"color: #FF6347;\">work</span> <span style=\"color: #FFD700;\">the</span> <span style=\"color: #32CD32;\">whole</span> <span style=\"color: #4682B4;\">winter</span> <span style=\"color: #6A5ACD;\">to</span> <span style=\"color: #FF69B4;\">take</span> <span style=\"color: #4682B4;\">over</span> <span style=\"color: black;\">summer</span><br><span style=\"color: #FFD700;\">they</span> <span style=\"color: #FF6347;\">late</span> <span style=\"color: #6A5ACD;\">to</span> <span style=\"color: #FFD700;\">the</span> <span style=\"color: #FF69B4;\">party</span> <span style=\"color: #8B4513;\">cause</span> <span style=\"color: #FFD700;\">they</span> <span style=\"color: black;\">overslumbered</span><br><span style=\"color: #6A5ACD;\">don</span> <span style=\"color: #6A5ACD;\">t</span> <span style=\"color: black;\">hop</span> <span style=\"color: #FF6347;\">on</span> <span style=\"color: #FF6347;\">it</span> <span style=\"color: #4682B4;\">now</span> <span style=\"color: #8B4513;\">nigga</span> <span style=\"color: black;\">stay</span> <span style=\"color: #4682B4;\">over</span> <span style=\"color: #4682B4;\">yonder</span><br><span style=\"color: #8B4513;\">i</span> <span style=\"color: #32CD32;\">m</span> <span style=\"color: #FF6347;\">on</span> <span style=\"color: #FF6347;\">rodeo</span> <span style=\"color: #8B4513;\">i</span> <span style=\"color: #32CD32;\">m</span> <span style=\"color: black;\">bummy</span><br><span style=\"color: #8B4513;\">i</span> <span style=\"color: #32CD32;\">m</span> <span style=\"color: #4682B4;\">bout</span> <span style=\"color: #6A5ACD;\">to</span> <span style=\"color: #6A5ACD;\">get</span> <span style=\"color: #32CD32;\">fly</span> <span style=\"color: #4682B4;\">like</span> <span style=\"color: #32CD32;\">my</span> <span style=\"color: black;\">layover</span> <span style=\"color: black;\">comin</span><br><span style=\"color: #8B4513;\">i</span> <span style=\"color: black;\">promise</span> <span style=\"color: #8B4513;\">i</span> <span style=\"color: #6A5ACD;\">don</span> <span style=\"color: #6A5ACD;\">t</span> <span style=\"color: #32CD32;\">feel</span> <span style=\"color: #8B4513;\">a</span> <span style=\"color: #6A5ACD;\">day</span> <span style=\"color: #4682B4;\">over</span> <span style=\"color: black;\">twenty</span><br><span style=\"color: #FFD700;\">they</span> <span style=\"color: black;\">hatin</span> <span style=\"color: black;\">from</span> <span style=\"color: #6A5ACD;\">so</span> <span style=\"color: #32CD32;\">far</span> <span style=\"color: #8B4513;\">away</span> <span style=\"color: #FF69B4;\">and</span> <span style=\"color: #FF6347;\">it</span> <span style=\"color: #6A5ACD;\">s</span> <span style=\"color: black;\">funny</span><br><span style=\"color: #8B4513;\">i</span> <span style=\"color: #32CD32;\">m</span> <span style=\"color: black;\">clappin</span> <span style=\"color: #FF6347;\">at</span> <span style=\"color: #6A5ACD;\">niggas</span> <span style=\"color: #4682B4;\">like</span> <span style=\"color: #FFD700;\">they</span> <span style=\"color: #8B4513;\">owe</span> <span style=\"color: #32CD32;\">me</span> <span style=\"color: #FF6347;\">money</span><br><span style=\"color: #FFD700;\">pop</span> <span style=\"color: #FFD700;\">pop</span> <span style=\"color: #FFD700;\">pop</span> <span style=\"color: #FFD700;\">pop</span> <span style=\"color: #FFD700;\">pop</span> <span style=\"color: #FFD700;\">pop</span> <span style=\"color: black;\">click</span><br><span style=\"color: #4682B4;\">shit</span> <span style=\"color: #4682B4;\">now</span> <span style=\"color: #FFD700;\">the</span> <span style=\"color: black;\">clip</span> <span style=\"color: #4682B4;\">lookin</span> <span style=\"color: #4682B4;\">like</span> <span style=\"color: #FF69B4;\">chick</span> <span style=\"color: #32CD32;\">fil</span> <span style=\"color: #8B4513;\">a</span> <span style=\"color: #FF6347;\">on</span> <span style=\"color: #8B4513;\">a</span> <span style=\"color: black;\">sunday</span><br><span style=\"color: #8B4513;\">you</span> <span style=\"color: black;\">might</span> <span style=\"color: #8B4513;\">also</span> <span style=\"color: #4682B4;\">like</span> <span style=\"color: black;\">interlude</span><br><span style=\"color: #FF69B4;\">he</span> <span style=\"color: #FF6347;\">keeps</span> <span style=\"color: black;\">killing</span> <span style=\"color: #6A5ACD;\">us</span> <span style=\"color: black;\">father</span><br><span style=\"color: #FF69B4;\">he</span> <span style=\"color: #FF6347;\">keeps</span> <span style=\"color: #FF6347;\">taking</span> <span style=\"color: #FF69B4;\">and</span> <span style=\"color: #FF6347;\">taking</span><br><span style=\"color: #8B4513;\">i</span> <span style=\"color: #FF69B4;\">want</span> <span style=\"color: #6A5ACD;\">to</span><br><br><span style=\"color: #FF69B4;\">verse</span> <span style=\"color: #32CD32;\">2</span><br><span style=\"color: #FFD700;\">pop</span> <span style=\"color: #FF6347;\">in</span> <span style=\"color: #8B4513;\">a</span> <span style=\"color: #4682B4;\">new</span> <span style=\"color: #FF6347;\">one</span> <span style=\"color: #FF69B4;\">and</span> <span style=\"color: #FF6347;\">let</span> <span style=\"color: #FF69B4;\">off</span> <span style=\"color: #FFD700;\">again</span><br><span style=\"color: #8B4513;\">always</span> <span style=\"color: #4682B4;\">knew</span> <span style=\"color: #8B4513;\">we</span> <span style=\"color: #6A5ACD;\">was</span> <span style=\"color: #FFD700;\">gon</span> <span style=\"color: #6A5ACD;\">get</span> <span style=\"color: #32CD32;\">our</span> <span style=\"color: black;\">revenge</span><br><span style=\"color: #4682B4;\">aim</span> <span style=\"color: #FF6347;\">at</span> <span style=\"color: #4682B4;\">whoever</span> <span style=\"color: #FF6347;\">ain</span> <span style=\"color: #6A5ACD;\">t</span> <span style=\"color: black;\">dead</span> <span style=\"color: #8B4513;\">i</span> <span style=\"color: #32CD32;\">will</span> <span style=\"color: #FF6347;\">win</span><br><span style=\"color: #8B4513;\">you</span> <span style=\"color: #FF6347;\">thought</span> <span style=\"color: #8B4513;\">cause</span> <span style=\"color: #8B4513;\">i</span> <span style=\"color: #32CD32;\">m</span> <span style=\"color: #6A5ACD;\">god</span> <span style=\"color: #FF69B4;\">of</span> <span style=\"color: #8B4513;\">this</span> <span style=\"color: black;\">rap</span> <span style=\"color: #4682B4;\">shit</span> <span style=\"color: #FF6347;\">that</span> <span style=\"color: #8B4513;\">i</span> <span style=\"color: #6A5ACD;\">d</span> <span style=\"color: #8B4513;\">just</span> <span style=\"color: black;\">forget</span> <span style=\"color: #32CD32;\">all</span> <span style=\"color: #FFD700;\">the</span> <span style=\"color: black;\">sins</span><br><span style=\"color: #8B4513;\">oh</span> <span style=\"color: #FF69B4;\">how</span> <span style=\"color: #8B4513;\">you</span> <span style=\"color: black;\">wish</span><br><span style=\"color: #FF69B4;\">he</span> <span style=\"color: #32CD32;\">dope</span> <span style=\"color: #6A5ACD;\">as</span> <span style=\"color: #8B4513;\">a</span> <span style=\"color: black;\">hundred</span> <span style=\"color: #FF69B4;\">and</span> <span style=\"color: #6A5ACD;\">ten</span> <span style=\"color: #FF69B4;\">hour</span> <span style=\"color: black;\">binge</span><br><span style=\"color: black;\">everybody</span> <span style=\"color: #6A5ACD;\">say</span> <span style=\"color: #FF6347;\">that</span> <span style=\"color: #FFD700;\">they</span> <span style=\"color: black;\">start</span> <span style=\"color: #FF6347;\">at</span> <span style=\"color: #FFD700;\">the</span> <span style=\"color: black;\">bottom</span><br><span style=\"color: #8B4513;\">i</span> <span style=\"color: #6A5ACD;\">don</span> <span style=\"color: #6A5ACD;\">t</span> <span style=\"color: #FF69B4;\">care</span> <span style=\"color: #6A5ACD;\">to</span> <span style=\"color: black;\">doubt</span> <span style=\"color: #4682B4;\">em</span> <span style=\"color: #4682B4;\">but</span> <span style=\"color: #8B4513;\">this</span> <span style=\"color: #FF69B4;\">how</span> <span style=\"color: #FF6347;\">it</span> <span style=\"color: #6A5ACD;\">ends</span> <span style=\"color: #8B4513;\">nigga</span><br><span style=\"color: #4682B4;\">look</span> <span style=\"color: #FF6347;\">at</span> <span style=\"color: #8B4513;\">you</span> <span style=\"color: black;\">son</span><br><span style=\"color: #4682B4;\">look</span> <span style=\"color: #FF6347;\">at</span> <span style=\"color: #FF6347;\">what</span> <span style=\"color: #8B4513;\">you</span> <span style=\"color: #4682B4;\">ve</span> <span style=\"color: black;\">become</span><br><span style=\"color: #8B4513;\">this</span> <span style=\"color: #FF69B4;\">how</span> <span style=\"color: #FF6347;\">it</span> <span style=\"color: #6A5ACD;\">ends</span><br><span style=\"color: #FF6347;\">never</span> <span style=\"color: #6A5ACD;\">see</span> <span style=\"color: #4682B4;\">no</span> <span style=\"color: #FF6347;\">one</span> <span style=\"color: #6A5ACD;\">get</span> <span style=\"color: #8B4513;\">this</span> <span style=\"color: #8B4513;\">high</span> <span style=\"color: #FFD700;\">again</span><br><span style=\"color: #32CD32;\">globetrotter</span> <span style=\"color: #4682B4;\">shit</span> <span style=\"color: #8B4513;\">bitch</span> <span style=\"color: #FF6347;\">that</span> <span style=\"color: #6A5ACD;\">s</span> <span style=\"color: #8B4513;\">just</span> <span style=\"color: #FF69B4;\">how</span> <span style=\"color: #8B4513;\">i</span> <span style=\"color: #32CD32;\">spin</span><br><span style=\"color: #4682B4;\">word</span> <span style=\"color: #6A5ACD;\">to</span> <span style=\"color: #32CD32;\">my</span> <span style=\"color: #4682B4;\">palm</span> <span style=\"color: #8B4513;\">bitch</span> <span style=\"color: #8B4513;\">i</span> <span style=\"color: #32CD32;\">m</span> <span style=\"color: #6A5ACD;\">too</span> <span style=\"color: #4682B4;\">locked</span> <span style=\"color: #FF6347;\">in</span><br><span style=\"color: #8B4513;\">i</span> <span style=\"color: #6A5ACD;\">hit</span> <span style=\"color: #4682B4;\">em</span> <span style=\"color: #FF69B4;\">up</span> <span style=\"color: #8B4513;\">bitch</span> <span style=\"color: #8B4513;\">i</span> <span style=\"color: #32CD32;\">m</span> <span style=\"color: #6A5ACD;\">2pac</span> <span style=\"color: #6A5ACD;\">twin</span><br><span style=\"color: #FF6347;\">came</span> <span style=\"color: #FF69B4;\">up</span> <span style=\"color: #4682B4;\">round</span> <span style=\"color: #FF69B4;\">sharks</span> <span style=\"color: #6A5ACD;\">so</span> <span style=\"color: #FF6347;\">that</span> <span style=\"color: #6A5ACD;\">s</span> <span style=\"color: #8B4513;\">just</span> <span style=\"color: #FF69B4;\">how</span> <span style=\"color: #8B4513;\">i</span> <span style=\"color: #6A5ACD;\">swim</span><br><span style=\"color: #FF6347;\">came</span> <span style=\"color: #FF69B4;\">up</span> <span style=\"color: #4682B4;\">round</span> <span style=\"color: #FF69B4;\">sharks</span> <span style=\"color: #6A5ACD;\">so</span> <span style=\"color: #FF6347;\">that</span> <span style=\"color: #6A5ACD;\">s</span> <span style=\"color: #8B4513;\">just</span> <span style=\"color: #FF69B4;\">how</span> <span style=\"color: #8B4513;\">i</span> <span style=\"color: #6A5ACD;\">swim</span><br><span style=\"color: #FF6347;\">that</span> <span style=\"color: #6A5ACD;\">s</span> <span style=\"color: #8B4513;\">just</span> <span style=\"color: #FF69B4;\">how</span> <span style=\"color: #8B4513;\">i</span> <span style=\"color: #6A5ACD;\">swim</span><br><span style=\"color: #8B4513;\">this</span> <span style=\"color: #FF69B4;\">how</span> <span style=\"color: #FF6347;\">it</span> <span style=\"color: #6A5ACD;\">ends</span><br><span style=\"color: #FF6347;\">never</span> <span style=\"color: #6A5ACD;\">see</span> <span style=\"color: #4682B4;\">no</span> <span style=\"color: #FF6347;\">one</span> <span style=\"color: #6A5ACD;\">get</span> <span style=\"color: #8B4513;\">this</span> <span style=\"color: #8B4513;\">high</span> <span style=\"color: #FFD700;\">again</span><br><span style=\"color: #32CD32;\">globetrotter</span> <span style=\"color: #4682B4;\">shit</span> <span style=\"color: #8B4513;\">bitch</span> <span style=\"color: #FF6347;\">that</span> <span style=\"color: #6A5ACD;\">s</span> <span style=\"color: #8B4513;\">just</span> <span style=\"color: #FF69B4;\">how</span> <span style=\"color: #8B4513;\">i</span> <span style=\"color: #32CD32;\">spin</span><br><span style=\"color: #4682B4;\">word</span> <span style=\"color: #6A5ACD;\">to</span> <span style=\"color: #32CD32;\">my</span> <span style=\"color: #4682B4;\">palm</span> <span style=\"color: #8B4513;\">bitch</span> <span style=\"color: #8B4513;\">i</span> <span style=\"color: #32CD32;\">m</span> <span style=\"color: #6A5ACD;\">too</span> <span style=\"color: #4682B4;\">locked</span> <span style=\"color: #FF6347;\">in</span><br><span style=\"color: #8B4513;\">i</span> <span style=\"color: #6A5ACD;\">hit</span> <span style=\"color: #4682B4;\">em</span> <span style=\"color: #FF69B4;\">up</span> <span style=\"color: #8B4513;\">bitch</span> <span style=\"color: #8B4513;\">i</span> <span style=\"color: #32CD32;\">m</span> <span style=\"color: #6A5ACD;\">2pac</span> <span style=\"color: #6A5ACD;\">twin</span><br><span style=\"color: #FF6347;\">came</span> <span style=\"color: #FF69B4;\">up</span> <span style=\"color: #4682B4;\">round</span> <span style=\"color: #FF69B4;\">sharks</span> <span style=\"color: #6A5ACD;\">so</span> <span style=\"color: #FF6347;\">that</span> <span style=\"color: #6A5ACD;\">s</span> <span style=\"color: #8B4513;\">just</span> <span style=\"color: #FF69B4;\">how</span> <span style=\"color: #8B4513;\">i</span> <span style=\"color: #6A5ACD;\">swim</span><br><span style=\"color: #FF6347;\">came</span> <span style=\"color: #FF69B4;\">up</span> <span style=\"color: #4682B4;\">round</span> <span style=\"color: #FF69B4;\">sharks</span> <span style=\"color: #6A5ACD;\">so</span> <span style=\"color: #FF6347;\">that</span> <span style=\"color: #6A5ACD;\">s</span> <span style=\"color: #8B4513;\">just</span> <span style=\"color: #FF69B4;\">how</span> <span style=\"color: #8B4513;\">i</span> <span style=\"color: #6A5ACD;\">swim</span><br><span style=\"color: black;\">outro</span><br><span style=\"color: #8B4513;\">i</span> <span style=\"color: #32CD32;\">m</span> <span style=\"color: #32CD32;\">sorry</span><br><span style=\"color: #8B4513;\">i</span> <span style=\"color: #32CD32;\">m</span> <span style=\"color: #6A5ACD;\">so</span> <span style=\"color: #32CD32;\">sorry</span> <span style=\"color: #32CD32;\">for</span> <span style=\"color: #FF6347;\">what</span> <span style=\"color: #8B4513;\">i</span> <span style=\"color: #4682B4;\">ve</span> <span style=\"color: black;\">done3embed</span></div>"
      ],
      "text/plain": [
       "<IPython.core.display.HTML object>"
      ]
     },
     "metadata": {},
     "output_type": "display_data"
    }
   ],
   "source": [
    "import random\n",
    "\n",
    "color_palette = [\"#FF6347\", \"#4682B4\", \"#32CD32\", \"#FFD700\", \"#6A5ACD\", \"#FF69B4\", \"#8B4513\"]\n",
    "rhyme_colors = {k: random.choice(color_palette) for k in rhyme_groups.keys()}\n",
    "\n",
    "highlighted_lyrics = []\n",
    "for line in tokenized_lyrics:\n",
    "    highlighted_line = []\n",
    "    for word in line:\n",
    "        phonetic_code = get_phonetic_code(word)\n",
    "        color = rhyme_colors.get(phonetic_code, \"black\")\n",
    "        highlighted_line.append(f'<span style=\"color: {color};\">{word}</span>')\n",
    "    highlighted_lyrics.append(\" \".join(highlighted_line))\n",
    "\n",
    "highlighted_lyrics_html = \"<br>\".join(highlighted_lyrics)\n",
    "\n",
    "from IPython.core.display import display, HTML\n",
    "display(HTML(f\"<div style='font-family: Arial, sans-serif;'>{highlighted_lyrics_html}</div>\"))\n"
   ]
  },
  {
   "cell_type": "code",
   "execution_count": null,
   "metadata": {},
   "outputs": [],
   "source": []
  }
 ],
 "metadata": {
  "kernelspec": {
   "display_name": "Python 3",
   "language": "python",
   "name": "python3"
  },
  "language_info": {
   "codemirror_mode": {
    "name": "ipython",
    "version": 3
   },
   "file_extension": ".py",
   "mimetype": "text/x-python",
   "name": "python",
   "nbconvert_exporter": "python",
   "pygments_lexer": "ipython3",
   "version": "3.9.7"
  }
 },
 "nbformat": 4,
 "nbformat_minor": 2
}
