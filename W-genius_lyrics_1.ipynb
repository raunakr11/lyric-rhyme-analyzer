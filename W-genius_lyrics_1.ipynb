{
 "cells": [
  {
   "cell_type": "code",
   "execution_count": 48,
   "metadata": {},
   "outputs": [],
   "source": [
    "import requests\n",
    "import os\n",
    "import lyricsgenius\n",
    "import json"
   ]
  },
  {
   "cell_type": "code",
   "execution_count": 31,
   "metadata": {},
   "outputs": [],
   "source": [
    "genius_api_token = \"your genius API token here\"\n",
    "genius_base_url = \"https://api.genius.com\""
   ]
  },
  {
   "cell_type": "code",
   "execution_count": 33,
   "metadata": {},
   "outputs": [],
   "source": [
    "genius = lyricsgenius.Genius(genius_api_token)"
   ]
  },
  {
   "cell_type": "code",
   "execution_count": 54,
   "metadata": {},
   "outputs": [],
   "source": [
    "\n",
    "def get_lyrics(song_title, artist_name):\n",
    "    \"\"\"\n",
    "    Retrieve and save lyrics for a given song title and artist using the Genius API.\n",
    "    \"\"\"\n",
    "    # Search for the song by title and artist\n",
    "    song = genius.search_song(song_title, artist_name)\n",
    "    if song is None:\n",
    "        print(f\"Song {song_title} by {artist_name} not found.\")\n",
    "        return None\n",
    "\n",
    "    # Save the lyrics and metadata to a JSON file\n",
    "    lyrics_data = {\n",
    "        \"title\": song_title,\n",
    "        \"artist\": artist_name,\n",
    "        \"lyrics\": song.lyrics\n",
    "    }\n",
    "    \n",
    "    with open(f\"lyricsFiles/{artist_name}-{song_title}_lyrics.json\", \"w\") as f:\n",
    "        json.dump(lyrics_data, f)\n",
    "    \n",
    "    print(f\"Lyrics saved to {artist_name}-{song_title}_lyrics.json\")"
   ]
  },
  {
   "cell_type": "code",
   "execution_count": 58,
   "metadata": {},
   "outputs": [
    {
     "name": "stdout",
     "output_type": "stream",
     "text": [
      "Searching for \"huntin wabbitz\" by jcole...\n",
      "Done.\n",
      "Lyrics saved to jcole-huntin wabbitz_lyrics.json\n"
     ]
    }
   ],
   "source": [
    "song_title = input(\"Enter the song title: \")\n",
    "artist_name = input(\"Enter the artist name: \")\n",
    "get_lyrics(song_title, artist_name)"
   ]
  },
  {
   "cell_type": "code",
   "execution_count": null,
   "metadata": {},
   "outputs": [],
   "source": []
  }
 ],
 "metadata": {
  "kernelspec": {
   "display_name": "Python 3",
   "language": "python",
   "name": "python3"
  },
  "language_info": {
   "codemirror_mode": {
    "name": "ipython",
    "version": 3
   },
   "file_extension": ".py",
   "mimetype": "text/x-python",
   "name": "python",
   "nbconvert_exporter": "python",
   "pygments_lexer": "ipython3",
   "version": "3.9.7"
  }
 },
 "nbformat": 4,
 "nbformat_minor": 2
}
