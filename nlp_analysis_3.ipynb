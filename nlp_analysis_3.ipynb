{
 "cells": [
  {
   "cell_type": "code",
   "execution_count": 1,
   "metadata": {},
   "outputs": [],
   "source": [
    "import json\n",
    "import re\n",
    "from collections import defaultdict\n",
    "from typing import Dict, List\n",
    "import random\n",
    "from metaphone import doublemetaphone\n",
    "from IPython.core.display import display, HTML\n"
   ]
  },
  {
   "cell_type": "code",
   "execution_count": 2,
   "metadata": {},
   "outputs": [
    {
     "data": {
      "text/plain": [
       "['boobs', 'cubes', \"galoob's\", \"lube's\"]"
      ]
     },
     "execution_count": 2,
     "metadata": {},
     "output_type": "execute_result"
    }
   ],
   "source": [
    "import pronouncing\n",
    "pronouncing.rhymes(\"tubes\")"
   ]
  },
  {
   "cell_type": "code",
   "execution_count": 12,
   "metadata": {},
   "outputs": [],
   "source": [
    "import json\n",
    "import re\n",
    "from collections import defaultdict\n",
    "from typing import Dict, List\n",
    "import random\n",
    "import pronouncing\n",
    "from IPython.core.display import display, HTML\n",
    "\n",
    "class Song:\n",
    "    def __init__(self, file_path: str):\n",
    "        \"\"\"\n",
    "        Initialize the Song object with lyrics from a file.\n",
    "        \n",
    "        Args:\n",
    "            file_path (str): The path to the JSON file containing the lyrics data.\n",
    "        \"\"\"\n",
    "        self.lyrics_data = self.load_lyrics(file_path)\n",
    "        self.lyrics = self.lyrics_data[\"lyrics\"]\n",
    "        self.tokenized_lyrics = self.tokenize_lyrics(self.lyrics)\n",
    "        self.blacklist = {\"a\", \"the\", \"can\", \"an\"}  # Define blacklist before detecting rhymes\n",
    "        self.rhyme_groups = self.detect_rhymes(self.tokenized_lyrics)\n",
    "\n",
    "    def load_lyrics(self, file_path: str) -> Dict[str, str]:\n",
    "        \"\"\"\n",
    "        Load the lyrics and metadata from a JSON file.\n",
    "        \n",
    "        Args:\n",
    "            file_path (str): The path to the JSON file containing the lyrics data.\n",
    "            \n",
    "        Returns:\n",
    "            dict: A dictionary with keys 'title', 'artist', and 'lyrics'.\n",
    "        \"\"\"\n",
    "        with open(file_path, \"r\") as f:\n",
    "            return json.load(f)\n",
    "\n",
    "    def tokenize_lyrics(self, lyrics: str) -> List[List[str]]:\n",
    "        \"\"\"\n",
    "        Tokenize the lyrics into lines and words.\n",
    "        \n",
    "        Args:\n",
    "            lyrics (str): The lyrics text.\n",
    "            \n",
    "        Returns:\n",
    "            list: A list of lists, where each inner list contains words of a line.\n",
    "        \"\"\"\n",
    "        lines = lyrics.split('\\n')\n",
    "        return [re.findall(r'\\b\\w+\\b', line.lower()) for line in lines]\n",
    "\n",
    "    def get_phonetic_code(self, word: str) -> str:\n",
    "        \"\"\"\n",
    "        Get the phonetic code of a word using the pronouncing library.\n",
    "        \n",
    "        Args:\n",
    "            word (str): The word to be converted into a phonetic code.\n",
    "            \n",
    "        Returns:\n",
    "            str: The phonetic code of the word.\n",
    "        \"\"\"\n",
    "        pronunciations = pronouncing.phones_for_word(word)\n",
    "        return pronunciations[0] if pronunciations else ''\n",
    "\n",
    "    def get_rhyme_part(self, phonetic_code: str) -> str:\n",
    "        \"\"\"\n",
    "        Extract the rhyming part (last syllable) from the phonetic code.\n",
    "        \n",
    "        Args:\n",
    "            phonetic_code (str): The phonetic code of the word.\n",
    "            \n",
    "        Returns:\n",
    "            str: The rhyming part of the phonetic code.\n",
    "        \"\"\"\n",
    "        return phonetic_code.split()[-1] if phonetic_code else ''\n",
    "\n",
    "    def detect_rhymes(self, tokenized_lyrics: List[List[str]]) -> Dict[str, List[str]]:\n",
    "        \"\"\"\n",
    "        Detect rhymes in the tokenized lyrics using phonetic codes.\n",
    "        \n",
    "        Args:\n",
    "            tokenized_lyrics (list): A list of lists containing tokenized lyrics.\n",
    "            \n",
    "        Returns:\n",
    "            dict: A dictionary where keys are phonetic codes and values are lists of rhyming words.\n",
    "        \"\"\"\n",
    "        rhyme_groups = defaultdict(list)\n",
    "        for line in tokenized_lyrics:\n",
    "            for word in line:\n",
    "                if word not in self.blacklist:\n",
    "                    phonetic_code = self.get_phonetic_code(word)\n",
    "                    rhyme_part = self.get_rhyme_part(phonetic_code)\n",
    "                    rhyme_groups[rhyme_part].append(word)\n",
    "\n",
    "        # Filter out non-rhyming groups\n",
    "        rhyme_groups = {k: v for k, v in rhyme_groups.items() if len(v) > 1}\n",
    "        \n",
    "        return rhyme_groups\n",
    "\n",
    "    def assign_colors(self, rhyme_groups: Dict[str, List[str]]) -> Dict[str, str]:\n",
    "        \"\"\"\n",
    "        Assign random colors to each rhyme group.\n",
    "        \n",
    "        Args:\n",
    "            rhyme_groups (dict): A dictionary of rhyme groups.\n",
    "            \n",
    "        Returns:\n",
    "            dict: A dictionary where keys are phonetic codes and values are colors.\n",
    "        \"\"\"\n",
    "        color_palette = [\"#FF6347\", \"#4682B4\", \"#32CD32\", \"#FFD700\", \"#6A5ACD\", \"#FF69B4\", \"#8B4513\"]\n",
    "        return {k: random.choice(color_palette) for k in rhyme_groups.keys()}\n",
    "\n",
    "    def highlight_lyrics(self, tokenized_lyrics: List[List[str]], rhyme_colors: Dict[str, str]) -> str:\n",
    "        \"\"\"\n",
    "        Highlight the lyrics with HTML/CSS.\n",
    "        \n",
    "        Args:\n",
    "            tokenized_lyrics (list): A list of lists containing tokenized lyrics.\n",
    "            rhyme_colors (dict): A dictionary of rhyme colors.\n",
    "            \n",
    "        Returns:\n",
    "            str: The highlighted lyrics in HTML format.\n",
    "        \"\"\"\n",
    "        highlighted_lyrics = []\n",
    "        for line in tokenized_lyrics:\n",
    "            highlighted_line = []\n",
    "            for word in line:\n",
    "                phonetic_code = self.get_phonetic_code(word)\n",
    "                rhyme_part = self.get_rhyme_part(phonetic_code)\n",
    "                color = rhyme_colors.get(rhyme_part, \"black\")\n",
    "                highlighted_line.append(f'<span style=\"color: {color};\">{word}</span>')\n",
    "            highlighted_lyrics.append(\" \".join(highlighted_line))\n",
    "        \n",
    "        return \"<br>\".join(highlighted_lyrics)\n",
    "\n",
    "    def display_lyrics(self, html_lyrics: str):\n",
    "        \"\"\"\n",
    "        Display the highlighted lyrics in HTML format for Jupyter Notebook.\n",
    "        \n",
    "        Args:\n",
    "            html_lyrics (str): The highlighted lyrics in HTML format.\n",
    "        \"\"\"\n",
    "        display(HTML(f\"<div style='font-family: Arial, sans-serif;'>{html_lyrics}</div>\"))\n",
    "\n",
    "    def analyze_and_display(self):\n",
    "        \"\"\"\n",
    "        Analyze the lyrics for rhymes and display the highlighted lyrics.\n",
    "        \"\"\"\n",
    "        rhyme_colors = self.assign_colors(self.rhyme_groups)\n",
    "        highlighted_lyrics_html = self.highlight_lyrics(self.tokenized_lyrics, rhyme_colors)\n",
    "        self.display_lyrics(highlighted_lyrics_html)\n",
    "\n",
    "    def display_rhyme_groups(self):\n",
    "        \"\"\"\n",
    "        Display all rhyming words together.\n",
    "        \"\"\"\n",
    "        rhyme_groups_str = []\n",
    "        for rhyme_part, words in self.rhyme_groups.items():\n",
    "            rhyme_groups_str.append(f\"Rhyme part '{rhyme_part}': {', '.join(words)}\")\n",
    "        \n",
    "        display(HTML(\"<br>\".join(rhyme_groups_str)))\n"
   ]
  },
  {
   "cell_type": "code",
   "execution_count": 13,
   "metadata": {},
   "outputs": [
    {
     "data": {
      "text/html": [
       "<div style='font-family: Arial, sans-serif;'><span style=\"color: #FF6347;\">75</span> <span style=\"color: #FF6347;\">contributorshuntin</span> <span style=\"color: #FF6347;\">wabbitz</span> <span style=\"color: #FFD700;\">lyrics</span> <span style=\"color: #FF6347;\">intro</span><br><span style=\"color: #32CD32;\">shh</span><br><span style=\"color: #8B4513;\">be</span> <span style=\"color: #FF69B4;\">very</span> <span style=\"color: #FF69B4;\">very</span> <span style=\"color: #32CD32;\">quiet</span><br><span style=\"color: #8B4513;\">i</span> <span style=\"color: #8B4513;\">m</span> <span style=\"color: #FF6347;\">huntin</span> <span style=\"color: #FF6347;\">wabbits</span><br><span style=\"color: #8B4513;\">goddamn</span> <span style=\"color: black;\">uh</span><br><br><span style=\"color: #FFD700;\">verse</span> <span style=\"color: #FF6347;\">1</span><br><span style=\"color: #FFD700;\">fuck</span> <span style=\"color: #FF6347;\">runnin</span> <span style=\"color: #6A5ACD;\">in</span> <span style=\"color: #FFD700;\">place</span> <span style=\"color: #8B4513;\">i</span> <span style=\"color: #8B4513;\">d</span> <span style=\"color: #FF6347;\">never</span> <span style=\"color: #8B4513;\">do</span> <span style=\"color: #32CD32;\">that</span> <span style=\"color: #8B4513;\">my</span> <span style=\"color: #6A5ACD;\">destination</span> <span style=\"color: #4682B4;\">is</span> <span style=\"color: #FF6347;\">runnin</span> <span style=\"color: #32CD32;\">the</span> <span style=\"color: #6A5ACD;\">map</span><br><span style=\"color: #8B4513;\">i</span> <span style=\"color: #FF6347;\">ll</span> <span style=\"color: #6A5ACD;\">run</span> <span style=\"color: #6A5ACD;\">in</span> <span style=\"color: #FF6347;\">your</span> <span style=\"color: #6A5ACD;\">trap</span> <span style=\"color: #FFD700;\">like</span> <span style=\"color: #6A5ACD;\">run</span> <span style=\"color: #8B4513;\">me</span> <span style=\"color: #FF6347;\">your</span> <span style=\"color: #FFD700;\">work</span> <span style=\"color: #FF6347;\">fore</span> <span style=\"color: #FF69B4;\">somebody</span> <span style=\"color: #32CD32;\">get</span> <span style=\"color: #32CD32;\">hurt</span> <span style=\"color: #FF6347;\">nigga</span> <span style=\"color: #6A5ACD;\">run</span> <span style=\"color: #FF6347;\">or</span> <span style=\"color: #32CD32;\">get</span> <span style=\"color: #32CD32;\">clapped</span><br><span style=\"color: #8B4513;\">i</span> <span style=\"color: #FF6347;\">ain</span> <span style=\"color: #8B4513;\">t</span> <span style=\"color: #FFD700;\">cool</span> <span style=\"color: #FFD700;\">with</span> <span style=\"color: #4682B4;\">these</span> <span style=\"color: #4682B4;\">dudes</span> <span style=\"color: #8B4513;\">i</span> <span style=\"color: #6A5ACD;\">don</span> <span style=\"color: #8B4513;\">t</span> <span style=\"color: #FFD700;\">fool</span> <span style=\"color: #FFD700;\">with</span> <span style=\"color: #4682B4;\">these</span> <span style=\"color: #4682B4;\">dudes</span><br><span style=\"color: #8B4513;\">i</span> <span style=\"color: #6A5ACD;\">don</span> <span style=\"color: #8B4513;\">t</span> <span style=\"color: #32CD32;\">wanna</span> <span style=\"color: #4682B4;\">show</span> <span style=\"color: #FFD700;\">love</span> <span style=\"color: #8B4513;\">i</span> <span style=\"color: #6A5ACD;\">don</span> <span style=\"color: #8B4513;\">t</span> <span style=\"color: #32CD32;\">wanna</span> <span style=\"color: #FFD700;\">give</span> <span style=\"color: #FF6347;\">dap</span><br><span style=\"color: #8B4513;\">i</span> <span style=\"color: #32CD32;\">just</span> <span style=\"color: #32CD32;\">wanna</span> <span style=\"color: #FFD700;\">kick</span> <span style=\"color: #FFD700;\">back</span> <span style=\"color: #FFD700;\">take</span> <span style=\"color: #FFD700;\">trips</span> <span style=\"color: #FFD700;\">make</span> <span style=\"color: #FFD700;\">hits</span> <span style=\"color: #FFD700;\">make</span> <span style=\"color: black;\">big</span> <span style=\"color: #FFD700;\">chips</span> <span style=\"color: #FFD700;\">stack</span> <span style=\"color: #FFD700;\">til</span> <span style=\"color: #8B4513;\">they</span> <span style=\"color: #FFD700;\">tall</span> <span style=\"color: #4682B4;\">as</span> <span style=\"color: #FF6347;\">kristaps</span><br><span style=\"color: #8B4513;\">me</span> <span style=\"color: #6A5ACD;\">and</span> <span style=\"color: #FF6347;\">your</span> <span style=\"color: #6A5ACD;\">squad</span> <span style=\"color: #4682B4;\">is</span> <span style=\"color: #FFD700;\">mismatch</span><br><span style=\"color: #FF6347;\">your</span> <span style=\"color: #4682B4;\">calves</span> <span style=\"color: #FF6347;\">ain</span> <span style=\"color: #8B4513;\">t</span> <span style=\"color: #8B4513;\">strong</span> <span style=\"color: #FF6347;\">enough</span> <span style=\"color: #8B4513;\">to</span> <span style=\"color: #FF6347;\">follow</span> <span style=\"color: #4682B4;\">his</span> <span style=\"color: black;\">path</span><br><span style=\"color: #6A5ACD;\">and</span> <span style=\"color: #8B4513;\">you</span> <span style=\"color: #4682B4;\">know</span> <span style=\"color: #32CD32;\">the</span> <span style=\"color: #FFD700;\">bitch</span> <span style=\"color: #6A5ACD;\">bad</span> <span style=\"color: #FF6347;\">if</span> <span style=\"color: #8B4513;\">i</span> <span style=\"color: #32CD32;\">brought</span> <span style=\"color: #32CD32;\">the</span> <span style=\"color: #FFD700;\">bitch</span> <span style=\"color: #FFD700;\">back</span><br><span style=\"color: #32CD32;\">let</span> <span style=\"color: #32CD32;\">the</span> <span style=\"color: #FFD700;\">chick</span> <span style=\"color: #6A5ACD;\">ride</span> <span style=\"color: #FFD700;\">stick</span> <span style=\"color: #FFD700;\">like</span> <span style=\"color: #8B4513;\">i</span> <span style=\"color: #32CD32;\">taught</span> <span style=\"color: black;\">her</span> <span style=\"color: #32CD32;\">witchcraft</span><br><span style=\"color: #32CD32;\">caught</span> <span style=\"color: #32CD32;\">a</span> <span style=\"color: #32CD32;\">whiplash</span> <span style=\"color: #6A5ACD;\">when</span> <span style=\"color: #8B4513;\">they</span> <span style=\"color: black;\">saw</span> <span style=\"color: #32CD32;\">the</span> <span style=\"color: #6A5ACD;\">whip</span> <span style=\"color: #FFD700;\">pass</span><br><span style=\"color: #8B4513;\">they</span> <span style=\"color: #FFD700;\">like</span> <span style=\"color: #8B4513;\">okay</span> <span style=\"color: #8B4513;\">i</span> <span style=\"color: #8B4513;\">see</span> <span style=\"color: #8B4513;\">you</span> <span style=\"color: #FFD700;\">bitch</span> <span style=\"color: #FFD700;\">how</span> <span style=\"color: #6A5ACD;\">could</span> <span style=\"color: #8B4513;\">you</span> <span style=\"color: #32CD32;\">not</span><br><span style=\"color: #8B4513;\">i</span> <span style=\"color: #FFD700;\">drove</span> <span style=\"color: #8B4513;\">to</span> <span style=\"color: #FF6347;\">cvs</span> <span style=\"color: #32CD32;\">copped</span> <span style=\"color: #32CD32;\">a</span> <span style=\"color: #6A5ACD;\">plan</span> <span style=\"color: #8B4513;\">b</span> <span style=\"color: #6A5ACD;\">and</span> <span style=\"color: #8B4513;\">i</span> <span style=\"color: #32CD32;\">watched</span> <span style=\"color: #4682B4;\">as</span> <span style=\"color: #8B4513;\">she</span> <span style=\"color: #6A5ACD;\">swallowed</span> <span style=\"color: #FFD700;\">bitch</span> <span style=\"color: #8B4513;\">i</span> <span style=\"color: #6A5ACD;\">kid</span> <span style=\"color: #8B4513;\">you</span> <span style=\"color: #32CD32;\">not</span><br><span style=\"color: #6A5ACD;\">can</span> <span style=\"color: #8B4513;\">t</span> <span style=\"color: #FFD700;\">take</span> <span style=\"color: #4682B4;\">no</span> <span style=\"color: #FFD700;\">risk</span> <span style=\"color: #6A5ACD;\">in</span> <span style=\"color: #FFD700;\">this</span> <span style=\"color: #8B4513;\">game</span> <span style=\"color: #8B4513;\">my</span> <span style=\"color: #FF69B4;\">money</span> <span style=\"color: #8B4513;\">grew</span> <span style=\"color: #32CD32;\">but</span> <span style=\"color: #8B4513;\">my</span> <span style=\"color: #6A5ACD;\">ambition</span> <span style=\"color: #FFD700;\">s</span> <span style=\"color: #32CD32;\">the</span> <span style=\"color: #8B4513;\">same</span><br><span style=\"color: #FFD700;\">talk</span> <span style=\"color: #8B4513;\">to</span> <span style=\"color: #8B4513;\">me</span> <span style=\"color: #FF6347;\">proper</span> <span style=\"color: #8B4513;\">you</span> <span style=\"color: #FF6347;\">lookin</span> <span style=\"color: #FFD700;\">like</span> <span style=\"color: #8B4513;\">q</span> <span style=\"color: #32CD32;\">at</span> <span style=\"color: #32CD32;\">the</span> <span style=\"color: #FF6347;\">locker</span> <span style=\"color: #8B4513;\">i</span> <span style=\"color: #6A5ACD;\">pop</span> <span style=\"color: #6A5ACD;\">up</span> <span style=\"color: #FFD700;\">how</span> <span style=\"color: #6A5ACD;\">bishop</span> <span style=\"color: #6A5ACD;\">had</span> <span style=\"color: #8B4513;\">came</span><br><span style=\"color: #32CD32;\">what</span> <span style=\"color: #FFD700;\">s</span> <span style=\"color: #6A5ACD;\">up</span> <span style=\"color: #FF6347;\">niggas</span> <span style=\"color: #FF6347;\">gon</span> <span style=\"color: #32CD32;\">put</span> <span style=\"color: #8B4513;\">some</span> <span style=\"color: #32CD32;\">respect</span> <span style=\"color: #6A5ACD;\">on</span> <span style=\"color: #8B4513;\">my</span> <span style=\"color: #8B4513;\">name</span><br><span style=\"color: #6A5ACD;\">one</span> <span style=\"color: #8B4513;\">way</span> <span style=\"color: #FF6347;\">or</span> <span style=\"color: #FF6347;\">another</span><br><span style=\"color: #8B4513;\">i</span> <span style=\"color: #FFD700;\">work</span> <span style=\"color: #32CD32;\">the</span> <span style=\"color: #FFD700;\">whole</span> <span style=\"color: #FF6347;\">winter</span> <span style=\"color: #8B4513;\">to</span> <span style=\"color: #FFD700;\">take</span> <span style=\"color: #FF6347;\">over</span> <span style=\"color: #FF6347;\">summer</span><br><span style=\"color: #8B4513;\">they</span> <span style=\"color: #32CD32;\">late</span> <span style=\"color: #8B4513;\">to</span> <span style=\"color: #32CD32;\">the</span> <span style=\"color: #FF69B4;\">party</span> <span style=\"color: #4682B4;\">cause</span> <span style=\"color: #8B4513;\">they</span> <span style=\"color: #FF6347;\">overslumbered</span><br><span style=\"color: #6A5ACD;\">don</span> <span style=\"color: #8B4513;\">t</span> <span style=\"color: #6A5ACD;\">hop</span> <span style=\"color: #6A5ACD;\">on</span> <span style=\"color: #32CD32;\">it</span> <span style=\"color: #FFD700;\">now</span> <span style=\"color: #FF6347;\">nigga</span> <span style=\"color: #8B4513;\">stay</span> <span style=\"color: #FF6347;\">over</span> <span style=\"color: #FF6347;\">yonder</span><br><span style=\"color: #8B4513;\">i</span> <span style=\"color: #8B4513;\">m</span> <span style=\"color: #6A5ACD;\">on</span> <span style=\"color: black;\">rodeo</span> <span style=\"color: #8B4513;\">i</span> <span style=\"color: #8B4513;\">m</span> <span style=\"color: #FF6347;\">bummy</span><br><span style=\"color: #8B4513;\">i</span> <span style=\"color: #8B4513;\">m</span> <span style=\"color: #32CD32;\">bout</span> <span style=\"color: #8B4513;\">to</span> <span style=\"color: #32CD32;\">get</span> <span style=\"color: #8B4513;\">fly</span> <span style=\"color: #FFD700;\">like</span> <span style=\"color: #8B4513;\">my</span> <span style=\"color: #FF6347;\">layover</span> <span style=\"color: #FF6347;\">comin</span><br><span style=\"color: #8B4513;\">i</span> <span style=\"color: #FFD700;\">promise</span> <span style=\"color: #8B4513;\">i</span> <span style=\"color: #6A5ACD;\">don</span> <span style=\"color: #8B4513;\">t</span> <span style=\"color: #FFD700;\">feel</span> <span style=\"color: #32CD32;\">a</span> <span style=\"color: #8B4513;\">day</span> <span style=\"color: #FF6347;\">over</span> <span style=\"color: #FF69B4;\">twenty</span><br><span style=\"color: #8B4513;\">they</span> <span style=\"color: #FF6347;\">hatin</span> <span style=\"color: #8B4513;\">from</span> <span style=\"color: #4682B4;\">so</span> <span style=\"color: #FF6347;\">far</span> <span style=\"color: #8B4513;\">away</span> <span style=\"color: #6A5ACD;\">and</span> <span style=\"color: #32CD32;\">it</span> <span style=\"color: #FFD700;\">s</span> <span style=\"color: #FF69B4;\">funny</span><br><span style=\"color: #8B4513;\">i</span> <span style=\"color: #8B4513;\">m</span> <span style=\"color: #FF6347;\">clappin</span> <span style=\"color: #32CD32;\">at</span> <span style=\"color: #FF6347;\">niggas</span> <span style=\"color: #FFD700;\">like</span> <span style=\"color: #8B4513;\">they</span> <span style=\"color: #4682B4;\">owe</span> <span style=\"color: #8B4513;\">me</span> <span style=\"color: #FF69B4;\">money</span><br><span style=\"color: #6A5ACD;\">pop</span> <span style=\"color: #6A5ACD;\">pop</span> <span style=\"color: #6A5ACD;\">pop</span> <span style=\"color: #6A5ACD;\">pop</span> <span style=\"color: #6A5ACD;\">pop</span> <span style=\"color: #6A5ACD;\">pop</span> <span style=\"color: #FFD700;\">click</span><br><span style=\"color: #32CD32;\">shit</span> <span style=\"color: #FFD700;\">now</span> <span style=\"color: #32CD32;\">the</span> <span style=\"color: #6A5ACD;\">clip</span> <span style=\"color: #FF6347;\">lookin</span> <span style=\"color: #FFD700;\">like</span> <span style=\"color: #FFD700;\">chick</span> <span style=\"color: #FFD700;\">fil</span> <span style=\"color: #32CD32;\">a</span> <span style=\"color: #6A5ACD;\">on</span> <span style=\"color: #32CD32;\">a</span> <span style=\"color: black;\">sunday</span><br><span style=\"color: #8B4513;\">you</span> <span style=\"color: #32CD32;\">might</span> <span style=\"color: #FF6347;\">also</span> <span style=\"color: #FFD700;\">like</span> <span style=\"color: #6A5ACD;\">interlude</span><br><span style=\"color: #8B4513;\">he</span> <span style=\"color: #FFD700;\">keeps</span> <span style=\"color: #8B4513;\">killing</span> <span style=\"color: #FFD700;\">us</span> <span style=\"color: #FF6347;\">father</span><br><span style=\"color: #8B4513;\">he</span> <span style=\"color: #FFD700;\">keeps</span> <span style=\"color: #8B4513;\">taking</span> <span style=\"color: #6A5ACD;\">and</span> <span style=\"color: #8B4513;\">taking</span><br><span style=\"color: #8B4513;\">i</span> <span style=\"color: #32CD32;\">want</span> <span style=\"color: #8B4513;\">to</span><br><br><span style=\"color: #FFD700;\">verse</span> <span style=\"color: #FF6347;\">2</span><br><span style=\"color: #6A5ACD;\">pop</span> <span style=\"color: #6A5ACD;\">in</span> <span style=\"color: #32CD32;\">a</span> <span style=\"color: #8B4513;\">new</span> <span style=\"color: #6A5ACD;\">one</span> <span style=\"color: #6A5ACD;\">and</span> <span style=\"color: #32CD32;\">let</span> <span style=\"color: #FF6347;\">off</span> <span style=\"color: #6A5ACD;\">again</span><br><span style=\"color: #4682B4;\">always</span> <span style=\"color: #8B4513;\">knew</span> <span style=\"color: #8B4513;\">we</span> <span style=\"color: #4682B4;\">was</span> <span style=\"color: #FF6347;\">gon</span> <span style=\"color: #32CD32;\">get</span> <span style=\"color: #FF6347;\">our</span> <span style=\"color: #32CD32;\">revenge</span><br><span style=\"color: #8B4513;\">aim</span> <span style=\"color: #32CD32;\">at</span> <span style=\"color: #FF6347;\">whoever</span> <span style=\"color: #FF6347;\">ain</span> <span style=\"color: #8B4513;\">t</span> <span style=\"color: #6A5ACD;\">dead</span> <span style=\"color: #8B4513;\">i</span> <span style=\"color: #FFD700;\">will</span> <span style=\"color: #6A5ACD;\">win</span><br><span style=\"color: #8B4513;\">you</span> <span style=\"color: #32CD32;\">thought</span> <span style=\"color: #4682B4;\">cause</span> <span style=\"color: #8B4513;\">i</span> <span style=\"color: #8B4513;\">m</span> <span style=\"color: #6A5ACD;\">god</span> <span style=\"color: #FFD700;\">of</span> <span style=\"color: #FFD700;\">this</span> <span style=\"color: #6A5ACD;\">rap</span> <span style=\"color: #32CD32;\">shit</span> <span style=\"color: #32CD32;\">that</span> <span style=\"color: #8B4513;\">i</span> <span style=\"color: #8B4513;\">d</span> <span style=\"color: #32CD32;\">just</span> <span style=\"color: #32CD32;\">forget</span> <span style=\"color: #FFD700;\">all</span> <span style=\"color: #32CD32;\">the</span> <span style=\"color: #4682B4;\">sins</span><br><span style=\"color: #4682B4;\">oh</span> <span style=\"color: #FFD700;\">how</span> <span style=\"color: #8B4513;\">you</span> <span style=\"color: #32CD32;\">wish</span><br><span style=\"color: #8B4513;\">he</span> <span style=\"color: #6A5ACD;\">dope</span> <span style=\"color: #4682B4;\">as</span> <span style=\"color: #32CD32;\">a</span> <span style=\"color: #6A5ACD;\">hundred</span> <span style=\"color: #6A5ACD;\">and</span> <span style=\"color: #6A5ACD;\">ten</span> <span style=\"color: #FF6347;\">hour</span> <span style=\"color: #32CD32;\">binge</span><br><span style=\"color: #FF69B4;\">everybody</span> <span style=\"color: #8B4513;\">say</span> <span style=\"color: #32CD32;\">that</span> <span style=\"color: #8B4513;\">they</span> <span style=\"color: #32CD32;\">start</span> <span style=\"color: #32CD32;\">at</span> <span style=\"color: #32CD32;\">the</span> <span style=\"color: #8B4513;\">bottom</span><br><span style=\"color: #8B4513;\">i</span> <span style=\"color: #6A5ACD;\">don</span> <span style=\"color: #8B4513;\">t</span> <span style=\"color: #FF6347;\">care</span> <span style=\"color: #8B4513;\">to</span> <span style=\"color: #32CD32;\">doubt</span> <span style=\"color: #8B4513;\">em</span> <span style=\"color: #32CD32;\">but</span> <span style=\"color: #FFD700;\">this</span> <span style=\"color: #FFD700;\">how</span> <span style=\"color: #32CD32;\">it</span> <span style=\"color: #4682B4;\">ends</span> <span style=\"color: #FF6347;\">nigga</span><br><span style=\"color: #FFD700;\">look</span> <span style=\"color: #32CD32;\">at</span> <span style=\"color: #8B4513;\">you</span> <span style=\"color: #6A5ACD;\">son</span><br><span style=\"color: #FFD700;\">look</span> <span style=\"color: #32CD32;\">at</span> <span style=\"color: #32CD32;\">what</span> <span style=\"color: #8B4513;\">you</span> <span style=\"color: #8B4513;\">ve</span> <span style=\"color: #8B4513;\">become</span><br><span style=\"color: #FFD700;\">this</span> <span style=\"color: #FFD700;\">how</span> <span style=\"color: #32CD32;\">it</span> <span style=\"color: #4682B4;\">ends</span><br><span style=\"color: #FF6347;\">never</span> <span style=\"color: #8B4513;\">see</span> <span style=\"color: #4682B4;\">no</span> <span style=\"color: #6A5ACD;\">one</span> <span style=\"color: #32CD32;\">get</span> <span style=\"color: #FFD700;\">this</span> <span style=\"color: #8B4513;\">high</span> <span style=\"color: #6A5ACD;\">again</span><br><span style=\"color: #FF6347;\">globetrotter</span> <span style=\"color: #32CD32;\">shit</span> <span style=\"color: #FFD700;\">bitch</span> <span style=\"color: #32CD32;\">that</span> <span style=\"color: #FFD700;\">s</span> <span style=\"color: #32CD32;\">just</span> <span style=\"color: #FFD700;\">how</span> <span style=\"color: #8B4513;\">i</span> <span style=\"color: #6A5ACD;\">spin</span><br><span style=\"color: #6A5ACD;\">word</span> <span style=\"color: #8B4513;\">to</span> <span style=\"color: #8B4513;\">my</span> <span style=\"color: #8B4513;\">palm</span> <span style=\"color: #FFD700;\">bitch</span> <span style=\"color: #8B4513;\">i</span> <span style=\"color: #8B4513;\">m</span> <span style=\"color: #8B4513;\">too</span> <span style=\"color: #32CD32;\">locked</span> <span style=\"color: #6A5ACD;\">in</span><br><span style=\"color: #8B4513;\">i</span> <span style=\"color: #32CD32;\">hit</span> <span style=\"color: #8B4513;\">em</span> <span style=\"color: #6A5ACD;\">up</span> <span style=\"color: #FFD700;\">bitch</span> <span style=\"color: #8B4513;\">i</span> <span style=\"color: #8B4513;\">m</span> <span style=\"color: #FF6347;\">2pac</span> <span style=\"color: #6A5ACD;\">twin</span><br><span style=\"color: #8B4513;\">came</span> <span style=\"color: #6A5ACD;\">up</span> <span style=\"color: #6A5ACD;\">round</span> <span style=\"color: #FFD700;\">sharks</span> <span style=\"color: #4682B4;\">so</span> <span style=\"color: #32CD32;\">that</span> <span style=\"color: #FFD700;\">s</span> <span style=\"color: #32CD32;\">just</span> <span style=\"color: #FFD700;\">how</span> <span style=\"color: #8B4513;\">i</span> <span style=\"color: #8B4513;\">swim</span><br><span style=\"color: #8B4513;\">came</span> <span style=\"color: #6A5ACD;\">up</span> <span style=\"color: #6A5ACD;\">round</span> <span style=\"color: #FFD700;\">sharks</span> <span style=\"color: #4682B4;\">so</span> <span style=\"color: #32CD32;\">that</span> <span style=\"color: #FFD700;\">s</span> <span style=\"color: #32CD32;\">just</span> <span style=\"color: #FFD700;\">how</span> <span style=\"color: #8B4513;\">i</span> <span style=\"color: #8B4513;\">swim</span><br><span style=\"color: #32CD32;\">that</span> <span style=\"color: #FFD700;\">s</span> <span style=\"color: #32CD32;\">just</span> <span style=\"color: #FFD700;\">how</span> <span style=\"color: #8B4513;\">i</span> <span style=\"color: #8B4513;\">swim</span><br><span style=\"color: #FFD700;\">this</span> <span style=\"color: #FFD700;\">how</span> <span style=\"color: #32CD32;\">it</span> <span style=\"color: #4682B4;\">ends</span><br><span style=\"color: #FF6347;\">never</span> <span style=\"color: #8B4513;\">see</span> <span style=\"color: #4682B4;\">no</span> <span style=\"color: #6A5ACD;\">one</span> <span style=\"color: #32CD32;\">get</span> <span style=\"color: #FFD700;\">this</span> <span style=\"color: #8B4513;\">high</span> <span style=\"color: #6A5ACD;\">again</span><br><span style=\"color: #FF6347;\">globetrotter</span> <span style=\"color: #32CD32;\">shit</span> <span style=\"color: #FFD700;\">bitch</span> <span style=\"color: #32CD32;\">that</span> <span style=\"color: #FFD700;\">s</span> <span style=\"color: #32CD32;\">just</span> <span style=\"color: #FFD700;\">how</span> <span style=\"color: #8B4513;\">i</span> <span style=\"color: #6A5ACD;\">spin</span><br><span style=\"color: #6A5ACD;\">word</span> <span style=\"color: #8B4513;\">to</span> <span style=\"color: #8B4513;\">my</span> <span style=\"color: #8B4513;\">palm</span> <span style=\"color: #FFD700;\">bitch</span> <span style=\"color: #8B4513;\">i</span> <span style=\"color: #8B4513;\">m</span> <span style=\"color: #8B4513;\">too</span> <span style=\"color: #32CD32;\">locked</span> <span style=\"color: #6A5ACD;\">in</span><br><span style=\"color: #8B4513;\">i</span> <span style=\"color: #32CD32;\">hit</span> <span style=\"color: #8B4513;\">em</span> <span style=\"color: #6A5ACD;\">up</span> <span style=\"color: #FFD700;\">bitch</span> <span style=\"color: #8B4513;\">i</span> <span style=\"color: #8B4513;\">m</span> <span style=\"color: #FF6347;\">2pac</span> <span style=\"color: #6A5ACD;\">twin</span><br><span style=\"color: #8B4513;\">came</span> <span style=\"color: #6A5ACD;\">up</span> <span style=\"color: #6A5ACD;\">round</span> <span style=\"color: #FFD700;\">sharks</span> <span style=\"color: #4682B4;\">so</span> <span style=\"color: #32CD32;\">that</span> <span style=\"color: #FFD700;\">s</span> <span style=\"color: #32CD32;\">just</span> <span style=\"color: #FFD700;\">how</span> <span style=\"color: #8B4513;\">i</span> <span style=\"color: #8B4513;\">swim</span><br><span style=\"color: #8B4513;\">came</span> <span style=\"color: #6A5ACD;\">up</span> <span style=\"color: #6A5ACD;\">round</span> <span style=\"color: #FFD700;\">sharks</span> <span style=\"color: #4682B4;\">so</span> <span style=\"color: #32CD32;\">that</span> <span style=\"color: #FFD700;\">s</span> <span style=\"color: #32CD32;\">just</span> <span style=\"color: #FFD700;\">how</span> <span style=\"color: #8B4513;\">i</span> <span style=\"color: #8B4513;\">swim</span><br><span style=\"color: #FF6347;\">outro</span><br><span style=\"color: #8B4513;\">i</span> <span style=\"color: #8B4513;\">m</span> <span style=\"color: #FF69B4;\">sorry</span><br><span style=\"color: #8B4513;\">i</span> <span style=\"color: #8B4513;\">m</span> <span style=\"color: #4682B4;\">so</span> <span style=\"color: #FF69B4;\">sorry</span> <span style=\"color: #FF6347;\">for</span> <span style=\"color: #32CD32;\">what</span> <span style=\"color: #8B4513;\">i</span> <span style=\"color: #8B4513;\">ve</span> <span style=\"color: #FF6347;\">done3embed</span></div>"
      ],
      "text/plain": [
       "<IPython.core.display.HTML object>"
      ]
     },
     "metadata": {},
     "output_type": "display_data"
    }
   ],
   "source": [
    "artist_name = \"jcole\"\n",
    "song_title = \"huntin wabbitz\"\n",
    "file_path = f\"lyricsFiles/{artist_name}-{song_title}_lyrics.json\"\n",
    "\n",
    "song = Song(file_path)\n",
    "song.analyze_and_display()"
   ]
  },
  {
   "cell_type": "code",
   "execution_count": 14,
   "metadata": {},
   "outputs": [
    {
     "data": {
      "text/html": [
       "Rhyme part '': 75, contributorshuntin, wabbitz, huntin, wabbits, 1, runnin, runnin, ll, nigga, ain, dap, kristaps, ain, cvs, lookin, niggas, gon, overslumbered, nigga, bummy, comin, hatin, clappin, niggas, lookin, 2, gon, ain, nigga, 2pac, 2pac, outro, done3embed<br>Rhyme part 'S': lyrics, verse, place, trips, hits, chips, pass, this, s, s, promise, s, keeps, us, keeps, verse, this, this, this, this, s, sharks, s, sharks, s, s, this, this, s, sharks, s, sharks, s<br>Rhyme part 'OW0': intro, follow, also<br>Rhyme part 'SH': shh, whiplash, wish<br>Rhyme part 'IY1': be, d, me, t, t, t, t, me, t, see, b, she, t, me, t, t, me, he, he, we, t, d, he, t, ve, see, see, ve<br>Rhyme part 'IY0': very, very, somebody, money, party, twenty, funny, money, everybody, sorry, sorry<br>Rhyme part 'T': quiet, that, get, hurt, get, clapped, just, brought, let, taught, witchcraft, caught, not, copped, watched, not, but, at, what, put, respect, late, it, bout, get, it, at, shit, might, want, let, get, at, thought, shit, that, just, forget, that, start, at, doubt, but, it, at, at, what, it, get, shit, that, just, locked, hit, that, just, that, just, that, just, it, get, shit, that, just, locked, hit, that, just, that, just, what<br>Rhyme part 'AY1': i, i, my, i, i, i, i, i, i, i, i, i, i, i, i, my, my, i, my, i, i, i, i, fly, my, i, i, i, i, i, i, i, i, high, i, my, i, i, i, i, i, i, high, i, my, i, i, i, i, i, i, i, i<br>Rhyme part 'M': m, goddamn, game, same, came, some, name, m, m, m, from, m, aim, m, bottom, em, become, palm, m, em, m, came, swim, came, swim, swim, palm, m, em, m, came, swim, came, swim, m, m<br>Rhyme part 'K': fuck, like, work, kick, back, take, make, make, stack, back, chick, stick, like, like, take, risk, talk, like, work, take, like, like, click, like, chick, like, look, look<br>Rhyme part 'N': in, destination, run, in, run, run, don, don, don, when, plan, in, ambition, on, one, don, on, on, don, on, in, one, again, win, ten, don, son, one, again, spin, in, twin, one, again, spin, in, twin<br>Rhyme part 'ER0': never, proper, locker, another, winter, over, summer, over, yonder, layover, over, father, our, whoever, hour, never, globetrotter, never, globetrotter<br>Rhyme part 'UW1': do, to, you, you, you, to, you, grew, to, you, q, to, to, to, you, to, new, knew, you, you, to, you, you, to, too, to, too<br>Rhyme part 'Z': is, these, dudes, these, dudes, as, is, calves, his, as, cause, always, was, cause, sins, as, ends, ends, ends<br>Rhyme part 'P': map, trap, whip, pop, up, bishop, up, hop, pop, pop, pop, pop, pop, pop, clip, pop, rap, dope, up, up, up, up, up, up<br>Rhyme part 'R': your, your, fore, or, your, your, or, far, care, for<br>Rhyme part 'L': cool, fool, til, tall, whole, feel, fil, will, all<br>Rhyme part 'DH': with, with<br>Rhyme part 'AH0': wanna, wanna, wanna<br>Rhyme part 'OW1': show, know, no, so, owe, oh, no, so, so, no, so, so, so<br>Rhyme part 'V': love, give, drove, of<br>Rhyme part 'EY1': they, they, they, okay, way, they, they, stay, day, they, away, they, say, they<br>Rhyme part 'D': and, squad, and, bad, ride, could, and, swallowed, kid, had, and, interlude, and, and, dead, god, hundred, and, word, round, round, word, round, round<br>Rhyme part 'CH': mismatch, bitch, bitch, bitch, bitch, bitch, bitch, bitch, bitch, bitch, bitch<br>Rhyme part 'NG': strong, killing, taking, taking<br>Rhyme part 'F': enough, if, off<br>Rhyme part 'AW1': how, how, now, now, how, how, how, how, how, how, how, how, how, how, how<br>Rhyme part 'JH': revenge, binge"
      ],
      "text/plain": [
       "<IPython.core.display.HTML object>"
      ]
     },
     "metadata": {},
     "output_type": "display_data"
    }
   ],
   "source": [
    "song.display_rhyme_groups()"
   ]
  },
  {
   "cell_type": "code",
   "execution_count": null,
   "metadata": {},
   "outputs": [],
   "source": []
  }
 ],
 "metadata": {
  "kernelspec": {
   "display_name": "Python 3",
   "language": "python",
   "name": "python3"
  },
  "language_info": {
   "codemirror_mode": {
    "name": "ipython",
    "version": 3
   },
   "file_extension": ".py",
   "mimetype": "text/x-python",
   "name": "python",
   "nbconvert_exporter": "python",
   "pygments_lexer": "ipython3",
   "version": "3.9.7"
  }
 },
 "nbformat": 4,
 "nbformat_minor": 2
}
